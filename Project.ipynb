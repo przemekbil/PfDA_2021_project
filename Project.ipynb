{
 "cells": [
  {
   "cell_type": "markdown",
   "id": "64d3b024-eee8-44f2-a88b-eaec89439079",
   "metadata": {
    "tags": []
   },
   "source": [
    "# Project for the 'Programming for Data Analysys'\n",
    "***"
   ]
  },
  {
   "cell_type": "markdown",
   "id": "bbf68010-4729-4b89-99c7-be9bca246393",
   "metadata": {
    "jp-MarkdownHeadingCollapsed": true,
    "tags": []
   },
   "source": [
    "### Table of content\n",
    "[1. Problem statement](#par1)<br>\n",
    "[2. Simulate the data using``numpy.random`` package](#par2)<br>\n",
    "[2.1 Simulate single variable](#par2.1)<br>\n",
    "[2.1.1 Perfect process](#par2.1.1)<br>\n",
    "[2.1.1 Simulate 'special causes'](#par2.1.2)<br>\n",
    "[2.2 Simulate scrap ratio based on 10 dimensions](#par2.2)<br>\n",
    "[3. Analise the data](#par3)<br>\n",
    "<hr>"
   ]
  },
  {
   "cell_type": "markdown",
   "id": "cb3908f4-6e6a-41ba-b323-805bbe48b1c9",
   "metadata": {
    "tags": []
   },
   "source": [
    "### Import all the packages"
   ]
  },
  {
   "cell_type": "code",
   "execution_count": 1,
   "id": "e9e3dee6-a3b3-4961-a280-5215d7813d5c",
   "metadata": {},
   "outputs": [],
   "source": [
    "# import all the packackes used in the notebook\n",
    "import numpy as np\n",
    "import pandas as pd\n",
    "import matplotlib.pyplot as plt"
   ]
  },
  {
   "cell_type": "code",
   "execution_count": 2,
   "id": "6a39f3f4-e4fa-4bf6-97f5-e8aecbb43d44",
   "metadata": {},
   "outputs": [],
   "source": [
    "# Create the new instance of the numpy psudorandom numbers Generator\n",
    "rng = np.random.default_rng()"
   ]
  },
  {
   "cell_type": "markdown",
   "id": "e21bd624-b813-4204-a500-dc18dedfdfdf",
   "metadata": {
    "tags": []
   },
   "source": [
    "<a id=\"par1\"></a>\n",
    "## 1. Problem statement"
   ]
  },
  {
   "cell_type": "markdown",
   "id": "8d375310-8427-44ab-82f2-172b7413f6a4",
   "metadata": {},
   "source": [
    "- Single manufacturing process step \n",
    "- Each part has 10 measured dimenions\n",
    "    - Some dimensions are correlated\n",
    "- If any of the 10 dimensions is measured outside of the specified limit, part is scrapped\n",
    "- Parts are manufactured in batches of 10\n",
    "- Tools are changes after batch is completed"
   ]
  },
  {
   "cell_type": "markdown",
   "id": "f78b8c62-22a2-43bb-9545-ae927e9785ae",
   "metadata": {
    "tags": []
   },
   "source": [
    "<a id=\"par2\"></a>\n",
    "## 2. Simulate the data using ```numpy.random``` package"
   ]
  },
  {
   "cell_type": "markdown",
   "id": "e28dfc21-5ec9-4b05-ba23-ccf7437892c0",
   "metadata": {},
   "source": [
    "<a id=\"par2.1\"></a>\n",
    "### 2.1 Simulate single variable"
   ]
  },
  {
   "cell_type": "markdown",
   "id": "eda4b4fa-026f-4f20-908e-9d326b4b1128",
   "metadata": {},
   "source": [
    "<a id=\"par2.1.1\"></a>\n",
    "#### 2.1.1 Perfect process"
   ]
  },
  {
   "cell_type": "markdown",
   "id": "857776ec-2c30-482d-ae39-b9f4f213b646",
   "metadata": {},
   "source": [
    "Distribution of a measurements of a single dimension in the stable manufacturing process (process that has no special causes) follows normal distribution."
   ]
  },
  {
   "cell_type": "markdown",
   "id": "8569214b-e817-4bdb-bf6f-c8fbfe0f0f96",
   "metadata": {},
   "source": [
    "##### Define Dim1 attributes"
   ]
  },
  {
   "cell_type": "markdown",
   "id": "44fc4f90-7190-4665-b632-2645ff86b447",
   "metadata": {},
   "source": [
    "Process capability:\n",
    "\n",
    "$$\n",
    "C_{p}=\\frac{USL-LSL}{6\\sigma}\n",
    "$$\n",
    "\n",
    "Given process capability, we can calculate the underlying process standard deviation\n",
    "\n",
    "\n",
    "$$\n",
    "\\sigma=\\frac{USL-LSL}{6 C_{p}}\n",
    "$$"
   ]
  },
  {
   "cell_type": "code",
   "execution_count": 3,
   "id": "13e47694-0c84-4916-b302-91d9521f78ca",
   "metadata": {},
   "outputs": [],
   "source": [
    "# Nominal dimension\n",
    "mu = 9.5\n",
    "# Upper and Lower tollerances\n",
    "lsl, usl = 9.4, 9.6\n",
    "# Process capability\n",
    "cp = 3\n",
    "# Number of observations\n",
    "n=1000"
   ]
  },
  {
   "cell_type": "code",
   "execution_count": 4,
   "id": "eb0e55b0-4cb7-49c8-bd9f-f71d6beea166",
   "metadata": {},
   "outputs": [],
   "source": [
    "dim1 = pd.Series(np.random.normal(mu, (usl-lsl)/(6*cp) , n))"
   ]
  },
  {
   "cell_type": "markdown",
   "id": "08f399dc-da1d-49cc-a76c-72b9dc2c46c8",
   "metadata": {},
   "source": [
    "##### Show distribution of dim1 using Histogram"
   ]
  },
  {
   "cell_type": "code",
   "execution_count": 5,
   "id": "ac04224f-7798-42c6-8172-f4c12cc08e7d",
   "metadata": {},
   "outputs": [
    {
     "data": {
      "image/png": "[encoded data removed]",
      "text/plain": [
       "<Figure size 432x288 with 1 Axes>"
      ]
     },
     "metadata": {
      "needs_background": "light"
     },
     "output_type": "display_data"
    }
   ],
   "source": [
    "# Calculate number of Histogram bins using Sturge’s Rule\n",
    "# as per: https://www.statisticshowto.com/choose-bin-sizes-statistics/\n",
    "bins = int(np.round(np.log10(n)*3.322+1))\n",
    "\n",
    "plt.hist(dim1, bins, density=True, label='Dim1')\n",
    "\n",
    "# Draw red vertical lines for upper and lower tolerances\n",
    "plt.axvline(usl, color='r', linestyle='dashed', linewidth=1)\n",
    "plt.axvline(lsl, color='r', linestyle='dashed', linewidth=1)\n",
    "\n",
    "# define plot's parameters\n",
    "plt.rcParams[\"figure.figsize\"] = [8, 4]\n",
    "plt.xlabel(' Dim1 measurement')\n",
    "plt.ylabel('Frequency of occurence')\n",
    "plt.title('Distribution of Dim1 in a process with Cp={}'.format(cp))\n",
    "plt.legend()\n",
    "plt.show()"
   ]
  },
  {
   "cell_type": "code",
   "execution_count": 6,
   "id": "6e677748-6982-4967-a813-d4888e411a5c",
   "metadata": {},
   "outputs": [],
   "source": [
    "# Define a function that will check if datapoints are violating any of the SPC rules\n",
    "def spc_stats(data):\n",
    "    \n",
    "    # Add 'Reason' column to data table\n",
    "    data['Reason'] = 0\n",
    "\n",
    "    # calculate the mean of the variable\n",
    "    x_bar = np.mean(data['Dim'])\n",
    "    mr_bar = np.mean( np.abs(data['mR'][1:len(data['mR'])]))\n",
    "\n",
    "    # Below calculations as per 'Implementing Six Sigma' Forrest W. Breyfogle III, p227\n",
    "    # Calculate Upper and Lower Control Limits for X chart \n",
    "    ucl = x_bar+mr_bar*2.66\n",
    "    lcl = x_bar-mr_bar*2.66\n",
    "\n",
    "    # Calculate Upper Control Limits for mR chart (there is no lower CL for mR chart)\n",
    "    mr_ucl = mr_bar+mr_bar*3.267    \n",
    "    \n",
    "    # Shewhart SPC control chart rules:\n",
    "    # https://analyse-it.com/docs/user-guide/process-control/shewhart-control-chart-rules\n",
    "    \n",
    "    # Number of observation on the same side of the mean when the alarm is switched on (typically 8 or 9)\n",
    "    n_side=8\n",
    "    \n",
    "    # Number of consecutive points steadily increasing or decreasing to switch the alarm (typically 6)\n",
    "    n_drift = 6\n",
    "    \n",
    "    # Check for measurements aoutside the contro limits\n",
    "    for index, row in data.iterrows():\n",
    "        x = row[0]\n",
    "        mr = row[1]\n",
    "        \n",
    "        if x>ucl or x<lcl:\n",
    "            data.loc[index, 'Reason'] = 1\n",
    "            \n",
    "        if mr>mr_ucl:\n",
    "            data.loc[index, 'Reason'] = 2\n",
    "            \n",
    "    \n",
    "    # check if there ar at least 'n_side' points on the same side of the mean line\n",
    "    \n",
    "    # 1 if point is above x_bar, -1 if it's below\n",
    "    data['xbar_side'] = np.sign(data['Dim'] - x_bar)\n",
    "\n",
    "    # count running sum of last n_side ['xbar_side'] values\n",
    "    data['sameside'] = data['xbar_side']\n",
    "    for i in range(1, n_side):\n",
    "        data['sameside'] =  data['sameside']  + data['xbar_side'].shift(i)\n",
    "    \n",
    "    data.loc[ np.abs(data['sameside'])==n_side , 'Reason'] = 3\n",
    "    \n",
    "    # Check for drifts in data: points are steadily increasing or decreasing\n",
    "    \n",
    "    data['delta_sign']=np.sign( data['mR'] )\n",
    "    \n",
    "    # count running sum of last n_side ['xbar_side'] values\n",
    "    data['drift'] = data['delta_sign']\n",
    "    for i in range(1, n_drift):\n",
    "        data['drift'] =  data['drift'] + data['delta_sign'].shift(i)\n",
    "    \n",
    "    data.loc[ np.abs(data['drift'])==n_drift , 'Reason'] = 4    \n",
    "    \n",
    "    \n",
    "    return data[['Dim', 'mR', 'Reason']], x_bar, mr_bar, ucl, lcl, mr_ucl\n",
    "    #return data, x_bar, mr_bar, ucl, lcl, mr_ucl"
   ]
  },
  {
   "cell_type": "code",
   "execution_count": 7,
   "id": "6df932e5-24a0-4f83-bfa3-8abfa80258a1",
   "metadata": {},
   "outputs": [],
   "source": [
    "def xmr(dim):\n",
    "    # Below code for SPC chart originally taken from: https://towardsdatascience.com/quality-control-charts-guide-for-python-9bb1c859c051\n",
    "\n",
    "    # Define list variable for moving ranges\n",
    "    # Calculated as per https://stackoverflow.com/questions/30673209/pandas-compare-next-row\n",
    "    MR = dim-dim.shift(1)\n",
    "\n",
    "    # Concatenate mR Series with and rename columns\n",
    "    data = pd.concat([dim, MR], axis=1).rename(columns={0:\"Dim\", 1:\"mR\"})\n",
    "    \n",
    "    # Find the points that are violating SPC rules and calculate the means and control limits\n",
    "    data, x_bar, mr_bar, ucl, lcl, mr_ucl = spc_stats(data)\n",
    "\n",
    "    # Plot x and mR charts\n",
    "    fig, axs = plt.subplots(2, figsize=(8,8), sharex=True)\n",
    "\n",
    "    # X chart\n",
    "    # Graph all the points \n",
    "    axs[0].plot(data['Dim'], linestyle='-', marker='o', color='black')\n",
    "\n",
    "    \n",
    "    # Add red dot when there are too many points on the same side of the mean\n",
    "    axs[0].plot(data[data['Reason']==4]['Dim'], linestyle=\"\", marker='o', color='yellow')    \n",
    "    \n",
    "    # Add red dot when there are too many points on the same side of the mean\n",
    "    axs[0].plot(data[data['Reason']==3]['Dim'], linestyle=\"\", marker='o', color='orange')    \n",
    "    \n",
    "    # Add red dot where Dim is over UCL or under LCL\n",
    "    axs[0].plot(data[data['Reason']==1]['Dim'], linestyle=\"\", marker='o', color='red')    \n",
    "\n",
    "    # Plot blue horizontal line at the process mean\n",
    "    axs[0].axhline(x_bar, color='blue')\n",
    "\n",
    "    # Plot red dotted lines at UCL and LCL\n",
    "    axs[0].axhline(ucl, color = 'red', linestyle = 'dashed')\n",
    "    axs[0].axhline(lcl, color = 'red', linestyle = 'dashed')\n",
    "\n",
    "    # Set Chart title and axis labels\n",
    "    axs[0].set_title('Individual Chart')\n",
    "    axs[0].set(xlabel='Part', ylabel='Measurement')\n",
    "\n",
    "\n",
    "    # mR chart\n",
    "    # Graph all the points \n",
    "    axs[1].plot( np.abs(data['mR']), linestyle='-', marker='o', color='black')\n",
    "\n",
    "    # Add red dot where Dim is over UCL\n",
    "    axs[1].plot(data[data['Reason']==2]['mR'], linestyle=\"\", marker='o', color='red')\n",
    "\n",
    "    # Plot blue horizontal line at the mR mean\n",
    "    axs[1].axhline(mr_bar, color='blue')\n",
    "\n",
    "    # Plot red dotted line at UCL\n",
    "    axs[1].axhline(mr_ucl, color='red', linestyle ='dashed')\n",
    "\n",
    "    axs[1].set_ylim(bottom=0)\n",
    "    axs[1].set_title('mR Chart')\n",
    "    axs[1].set(xlabel='Part', ylabel='Range')\n",
    "    \n",
    "    return data[data['Reason']>0]\n",
    "    #return data"
   ]
  },
  {
   "cell_type": "code",
   "execution_count": 8,
   "id": "55a7e208-8074-4609-841c-ac8141ac0881",
   "metadata": {},
   "outputs": [
    {
     "data": {
      "image/png": "[encoded data removed]",
      "text/plain": [
       "<Figure size 576x576 with 2 Axes>"
      ]
     },
     "metadata": {
      "needs_background": "light"
     },
     "output_type": "display_data"
    }
   ],
   "source": [
    "o = xmr(dim1)"
   ]
  },
  {
   "cell_type": "code",
   "execution_count": 10,
   "id": "41474561-029c-45b1-91bd-dd44af29f297",
   "metadata": {},
   "outputs": [
    {
     "data": {
      "text/html": [
       "<div>\n",
       "<style scoped>\n",
       "    .dataframe tbody tr th:only-of-type {\n",
       "        vertical-align: middle;\n",
       "    }\n",
       "\n",
       "    .dataframe tbody tr th {\n",
       "        vertical-align: top;\n",
       "    }\n",
       "\n",
       "    .dataframe thead th {\n",
       "        text-align: right;\n",
       "    }\n",
       "</style>\n",
       "<table border=\"1\" class=\"dataframe\">\n",
       "  <thead>\n",
       "    <tr style=\"text-align: right;\">\n",
       "      <th></th>\n",
       "      <th>Dim</th>\n",
       "      <th>mR</th>\n",
       "      <th>Reason</th>\n",
       "    </tr>\n",
       "  </thead>\n",
       "  <tbody>\n",
       "    <tr>\n",
       "      <th>182</th>\n",
       "      <td>9.498179</td>\n",
       "      <td>0.000185</td>\n",
       "      <td>3</td>\n",
       "    </tr>\n",
       "    <tr>\n",
       "      <th>183</th>\n",
       "      <td>9.499430</td>\n",
       "      <td>0.001251</td>\n",
       "      <td>3</td>\n",
       "    </tr>\n",
       "    <tr>\n",
       "      <th>309</th>\n",
       "      <td>9.534311</td>\n",
       "      <td>0.038176</td>\n",
       "      <td>1</td>\n",
       "    </tr>\n",
       "    <tr>\n",
       "      <th>620</th>\n",
       "      <td>9.457908</td>\n",
       "      <td>-0.045388</td>\n",
       "      <td>1</td>\n",
       "    </tr>\n",
       "    <tr>\n",
       "      <th>735</th>\n",
       "      <td>9.504752</td>\n",
       "      <td>-0.010697</td>\n",
       "      <td>3</td>\n",
       "    </tr>\n",
       "    <tr>\n",
       "      <th>824</th>\n",
       "      <td>9.503943</td>\n",
       "      <td>0.003677</td>\n",
       "      <td>3</td>\n",
       "    </tr>\n",
       "    <tr>\n",
       "      <th>938</th>\n",
       "      <td>9.541096</td>\n",
       "      <td>0.053389</td>\n",
       "      <td>1</td>\n",
       "    </tr>\n",
       "  </tbody>\n",
       "</table>\n",
       "</div>"
      ],
      "text/plain": [
       "          Dim        mR  Reason\n",
       "182  9.498179  0.000185       3\n",
       "183  9.499430  0.001251       3\n",
       "309  9.534311  0.038176       1\n",
       "620  9.457908 -0.045388       1\n",
       "735  9.504752 -0.010697       3\n",
       "824  9.503943  0.003677       3\n",
       "938  9.541096  0.053389       1"
      ]
     },
     "execution_count": 10,
     "metadata": {},
     "output_type": "execute_result"
    }
   ],
   "source": [
    "o"
   ]
  },
  {
   "cell_type": "markdown",
   "id": "d75299a1-e1a8-4ee4-b337-d1e812a2e5c8",
   "metadata": {},
   "source": [
    "<a id=\"par2.1.2\"></a>\n",
    "#### 2.1.2 Simulate 'special causes'"
   ]
  },
  {
   "cell_type": "code",
   "execution_count": null,
   "id": "c770d2a2-dce0-4e2f-9439-b3850db1b0e4",
   "metadata": {},
   "outputs": [],
   "source": []
  },
  {
   "cell_type": "markdown",
   "id": "7032323b-dc25-4ed6-a40a-8056a00f7e7e",
   "metadata": {},
   "source": [
    "<a id=\"par2.2\"></a>\n",
    "### 2.2 Simulate scrap ratio based on 10 dimensions"
   ]
  },
  {
   "cell_type": "code",
   "execution_count": null,
   "id": "05da92c4-24bb-46c1-816c-50ac66e72aee",
   "metadata": {},
   "outputs": [],
   "source": []
  },
  {
   "cell_type": "code",
   "execution_count": null,
   "id": "1937eac2-06b2-4da7-bff9-caed34ec2466",
   "metadata": {},
   "outputs": [],
   "source": []
  },
  {
   "cell_type": "markdown",
   "id": "5863bfbd-93b2-461f-97d9-945b5e2ae22f",
   "metadata": {},
   "source": [
    "<a id=\"par3\"></a>\n",
    "## 3. Analyse the data"
   ]
  },
  {
   "cell_type": "code",
   "execution_count": null,
   "id": "8c3cb3a4-974b-4f4f-8786-f0fee1e3bdf7",
   "metadata": {},
   "outputs": [],
   "source": []
  },
  {
   "cell_type": "code",
   "execution_count": null,
   "id": "2607a963-31be-4aa7-899e-3a650d37cb19",
   "metadata": {},
   "outputs": [],
   "source": []
  },
  {
   "cell_type": "code",
   "execution_count": null,
   "id": "a395ade3-3c5b-4582-bce1-93671dcae204",
   "metadata": {},
   "outputs": [],
   "source": []
  },
  {
   "cell_type": "code",
   "execution_count": null,
   "id": "ed1c9bcb-047b-40e4-94ec-0afd3cd3d38d",
   "metadata": {},
   "outputs": [],
   "source": []
  },
  {
   "cell_type": "code",
   "execution_count": null,
   "id": "34c7ebb4-76ff-4a81-9d0d-2db436f35ad6",
   "metadata": {},
   "outputs": [],
   "source": []
  },
  {
   "cell_type": "markdown",
   "id": "8b718478-c8cd-4f1e-a055-ff0e152b6373",
   "metadata": {},
   "source": [
    "# End"
   ]
  }
 ],
 "metadata": {
  "kernelspec": {
   "display_name": "Python 3 (ipykernel)",
   "language": "python",
   "name": "python3"
  },
  "language_info": {
   "codemirror_mode": {
    "name": "ipython",
    "version": 3
   },
   "file_extension": ".py",
   "mimetype": "text/x-python",
   "name": "python",
   "nbconvert_exporter": "python",
   "pygments_lexer": "ipython3",
   "version": "3.9.7"
  }
 },
 "nbformat": 4,
 "nbformat_minor": 5
}
