{
 "cells": [
  {
   "cell_type": "markdown",
   "id": "64d3b024-eee8-44f2-a88b-eaec89439079",
   "metadata": {
    "tags": []
   },
   "source": [
    "# Project for the 'Programming for Data Analysys'\n",
    "***"
   ]
  },
  {
   "cell_type": "markdown",
   "id": "bbf68010-4729-4b89-99c7-be9bca246393",
   "metadata": {
    "jp-MarkdownHeadingCollapsed": true,
    "tags": []
   },
   "source": [
    "### Table of content\n",
    "[1. Problem statement](#par1)<br>\n",
    "[2. Simulate the data using``numpy.random`` package](#par2)<br>\n",
    "[2.1 Simulate single variable](#par2.1)<br>\n",
    "[2.1.1 Perfect process](#par2.1.1)<br>\n",
    "[2.1.1 Simulate 'special causes'](#par2.1.2)<br>\n",
    "[2.2 Simulate scrap ratio based on 10 dimensions](#par2.2)<br>\n",
    "[3. Analise the data](#par3)<br>\n",
    "<hr>"
   ]
  },
  {
   "cell_type": "markdown",
   "id": "cb3908f4-6e6a-41ba-b323-805bbe48b1c9",
   "metadata": {
    "tags": []
   },
   "source": [
    "### Import all the packages"
   ]
  },
  {
   "cell_type": "code",
   "execution_count": 1,
   "id": "e9e3dee6-a3b3-4961-a280-5215d7813d5c",
   "metadata": {},
   "outputs": [],
   "source": [
    "# import all the packackes used in the notebook\n",
    "import numpy as np\n",
    "import pandas as pd\n",
    "import matplotlib.pyplot as plt"
   ]
  },
  {
   "cell_type": "code",
   "execution_count": 2,
   "id": "6a39f3f4-e4fa-4bf6-97f5-e8aecbb43d44",
   "metadata": {},
   "outputs": [],
   "source": [
    "# Create the new instance of the numpy psudorandom numbers Generator\n",
    "rng = np.random.default_rng()"
   ]
  },
  {
   "cell_type": "markdown",
   "id": "e21bd624-b813-4204-a500-dc18dedfdfdf",
   "metadata": {
    "tags": []
   },
   "source": [
    "<a id=\"par1\"></a>\n",
    "## 1. Problem statement"
   ]
  },
  {
   "cell_type": "markdown",
   "id": "8d375310-8427-44ab-82f2-172b7413f6a4",
   "metadata": {},
   "source": [
    "- Single manufacturing process step \n",
    "- Each part has 10 measured dimenions\n",
    "    - Some dimensions are correlated\n",
    "- If any of the 10 dimensions is measured outside of the specified limit, part is scrapped\n",
    "- Parts are manufactured in batches of 10\n",
    "- Tools are changes after batch is completed"
   ]
  },
  {
   "cell_type": "markdown",
   "id": "f78b8c62-22a2-43bb-9545-ae927e9785ae",
   "metadata": {
    "tags": []
   },
   "source": [
    "<a id=\"par2\"></a>\n",
    "## 2. Simulate the data using ```numpy.random``` package"
   ]
  },
  {
   "cell_type": "markdown",
   "id": "e28dfc21-5ec9-4b05-ba23-ccf7437892c0",
   "metadata": {},
   "source": [
    "<a id=\"par2.1\"></a>\n",
    "### 2.1 Simulate single variable"
   ]
  },
  {
   "cell_type": "markdown",
   "id": "eda4b4fa-026f-4f20-908e-9d326b4b1128",
   "metadata": {},
   "source": [
    "<a id=\"par2.1.1\"></a>\n",
    "#### 2.1.1 Perfect process"
   ]
  },
  {
   "cell_type": "markdown",
   "id": "857776ec-2c30-482d-ae39-b9f4f213b646",
   "metadata": {},
   "source": [
    "Distribution of a measurements of a single dimension in the stable manufacturing process (process that has no special causes) follows normal distribution."
   ]
  },
  {
   "cell_type": "markdown",
   "id": "8569214b-e817-4bdb-bf6f-c8fbfe0f0f96",
   "metadata": {},
   "source": [
    "##### Define Dim1 attributes"
   ]
  },
  {
   "cell_type": "markdown",
   "id": "44fc4f90-7190-4665-b632-2645ff86b447",
   "metadata": {},
   "source": [
    "Process capability:\n",
    "\n",
    "$$\n",
    "C_{p}=\\frac{USL-LSL}{6\\sigma}\n",
    "$$\n",
    "\n",
    "Given process capability, we can calculate the underlying process standard deviation\n",
    "\n",
    "\n",
    "$$\n",
    "\\sigma=\\frac{USL-LSL}{6 C_{p}}\n",
    "$$"
   ]
  },
  {
   "cell_type": "code",
   "execution_count": 3,
   "id": "13e47694-0c84-4916-b302-91d9521f78ca",
   "metadata": {},
   "outputs": [],
   "source": [
    "# Nominal dimension\n",
    "mu = 9.5\n",
    "# Upper and Lower tollerances\n",
    "lsl, usl = 9.4, 9.6\n",
    "# Process capability\n",
    "cp = 3\n",
    "# Number of observations\n",
    "n=1000"
   ]
  },
  {
   "cell_type": "code",
   "execution_count": 4,
   "id": "eb0e55b0-4cb7-49c8-bd9f-f71d6beea166",
   "metadata": {},
   "outputs": [],
   "source": [
    "dim1 = pd.Series(np.random.normal(mu, (usl-lsl)/(6*cp) , n))"
   ]
  },
  {
   "cell_type": "markdown",
   "id": "08f399dc-da1d-49cc-a76c-72b9dc2c46c8",
   "metadata": {},
   "source": [
    "##### Show distribution of dim1 using Histogram"
   ]
  },
  {
   "cell_type": "code",
   "execution_count": 5,
   "id": "ac04224f-7798-42c6-8172-f4c12cc08e7d",
   "metadata": {},
   "outputs": [
    {
     "data": {
      "image/png": "[encoded data removed]",
      "text/plain": [
       "<Figure size 432x288 with 1 Axes>"
      ]
     },
     "metadata": {
      "needs_background": "light"
     },
     "output_type": "display_data"
    }
   ],
   "source": [
    "# Calculate number of Histogram bins using Sturge’s Rule\n",
    "# as per: https://www.statisticshowto.com/choose-bin-sizes-statistics/\n",
    "bins = int(np.round(np.log10(n)*3.322+1))\n",
    "\n",
    "plt.hist(dim1, bins, density=True, label='Dim1')\n",
    "\n",
    "# Draw a lines for upper and lower tolerances\n",
    "plt.axvline(usl, color='r', linestyle='dashed', linewidth=1)\n",
    "plt.axvline(lsl, color='r', linestyle='dashed', linewidth=1)\n",
    "\n",
    "# define plot's parameters\n",
    "plt.rcParams[\"figure.figsize\"] = [8, 4]\n",
    "plt.xlabel(' Dim1 measurement')\n",
    "plt.ylabel('Frequency of occurence')\n",
    "plt.title('Distribution of Dim1 in a process with Cp={}'.format(cp))\n",
    "plt.legend()\n",
    "plt.show()"
   ]
  },
  {
   "cell_type": "code",
   "execution_count": null,
   "id": "6df932e5-24a0-4f83-bfa3-8abfa80258a1",
   "metadata": {},
   "outputs": [],
   "source": [
    "# Below code for SPC chart taken from: https://towardsdatascience.com/quality-control-charts-guide-for-python-9bb1c859c051\n",
    "\n",
    "# Import required libraries\n",
    "import statistics\n",
    "\n",
    "# Define list variable for moving ranges\n",
    "MR = [np.nan]\n",
    "\n",
    "# Get and append moving ranges\n",
    "i = 1\n",
    "for data in range(1, len(dim1)):\n",
    "    MR.append(abs(dim1[i] - dim1[i-1]))\n",
    "    i += 1\n",
    "\n",
    "# Convert list to pandas Series objects    \n",
    "MR = pd.Series(MR)\n",
    "\n",
    "# Concatenate mR Series with and rename columns\n",
    "data = pd.concat([dim1, MR], axis=1).rename(columns={0:\"Dim1\", 1:\"mR\"})\n",
    "\n",
    "# calculate the mean of the variable\n",
    "x_bar = np.mean(data['Dim1'])\n",
    "mr_bar = np.mean(data['mR'][1:len(data['mR'])])\n",
    "\n",
    "# Calculate Upper and Lower Control Limits for X chart\n",
    "ucl = x_bar+3*mr_bar/1.128\n",
    "lcl = x_bar-3*mr_bar/1.128\n",
    "\n",
    "# Calculate Upper and Lower Control Limits for mR chart\n",
    "mr_ucl = mr_bar+3*mr_bar*0.8525\n",
    "mr_lcl = mr_bar-3*mr_bar*0.8525\n",
    "\n",
    "# Plot x and mR charts\n",
    "fig, axs = plt.subplots(2, figsize=(15,15), sharex=True)\n",
    "\n",
    "# x chart\n",
    "axs[0].plot(data['Dim1'], linestyle='-', marker='o', color='black')\n",
    "axs[0].axhline(x_bar, color='blue')\n",
    "axs[0].axhline(ucl, color = 'red', linestyle = 'dashed')\n",
    "axs[0].axhline(lcl, color = 'red', linestyle = 'dashed')\n",
    "axs[0].set_title('Individual Chart')\n",
    "axs[0].set(xlabel='Unit', ylabel='Value')\n",
    "\n",
    "# mR chart\n",
    "axs[1].plot(data['mR'], linestyle='-', marker='o', color='black')\n",
    "axs[1].axhline(mr_bar, color='blue')\n",
    "axs[1].axhline(mr_ucl, color='red', linestyle ='dashed')\n",
    "axs[1].axhline(mr_lcl, color='red', linestyle ='dashed')\n",
    "axs[1].set_ylim(bottom=0)\n",
    "axs[1].set_title('mR Chart')\n",
    "axs[1].set(xlabel='Unit', ylabel='Range')\n",
    "\n",
    "# Validate points out of control limits for x chart\n",
    "i = 0\n",
    "control = True\n",
    "for unit in data['Dim1']:\n",
    "    if unit > ucl or unit < lcl:\n",
    "        print('Unit', i, 'out of cotrol limits!')\n",
    "        control = False\n",
    "    i += 1\n",
    "if control == True:\n",
    "    print('All points within control limits.')\n",
    "    \n",
    "# Validate points out of control limits for mR chart\n",
    "i = 0\n",
    "control = True\n",
    "for unit in data['mR']:\n",
    "    if unit > mr_ucl or unit < mr_lcl:\n",
    "        print('Unit', i, 'out of control limits!')\n",
    "        control = False\n",
    "    i += 1\n",
    "if control == True:\n",
    "    print('All points within control limits.')"
   ]
  },
  {
   "cell_type": "markdown",
   "id": "d75299a1-e1a8-4ee4-b337-d1e812a2e5c8",
   "metadata": {},
   "source": [
    "<a id=\"par2.1.2\"></a>\n",
    "#### 2.1.2 Simulate 'special causes'"
   ]
  },
  {
   "cell_type": "code",
   "execution_count": null,
   "id": "c770d2a2-dce0-4e2f-9439-b3850db1b0e4",
   "metadata": {},
   "outputs": [],
   "source": []
  },
  {
   "cell_type": "markdown",
   "id": "7032323b-dc25-4ed6-a40a-8056a00f7e7e",
   "metadata": {},
   "source": [
    "<a id=\"par2.2\"></a>\n",
    "### 2.2 Simulate scrap ratio based on 10 dimensions"
   ]
  },
  {
   "cell_type": "code",
   "execution_count": null,
   "id": "05da92c4-24bb-46c1-816c-50ac66e72aee",
   "metadata": {},
   "outputs": [],
   "source": []
  },
  {
   "cell_type": "code",
   "execution_count": null,
   "id": "1937eac2-06b2-4da7-bff9-caed34ec2466",
   "metadata": {},
   "outputs": [],
   "source": []
  },
  {
   "cell_type": "markdown",
   "id": "5863bfbd-93b2-461f-97d9-945b5e2ae22f",
   "metadata": {},
   "source": [
    "<a id=\"par3\"></a>\n",
    "## 3. Analyse the data"
   ]
  },
  {
   "cell_type": "code",
   "execution_count": null,
   "id": "8c3cb3a4-974b-4f4f-8786-f0fee1e3bdf7",
   "metadata": {},
   "outputs": [],
   "source": []
  },
  {
   "cell_type": "code",
   "execution_count": null,
   "id": "2607a963-31be-4aa7-899e-3a650d37cb19",
   "metadata": {},
   "outputs": [],
   "source": []
  },
  {
   "cell_type": "code",
   "execution_count": null,
   "id": "a395ade3-3c5b-4582-bce1-93671dcae204",
   "metadata": {},
   "outputs": [],
   "source": []
  },
  {
   "cell_type": "code",
   "execution_count": null,
   "id": "ed1c9bcb-047b-40e4-94ec-0afd3cd3d38d",
   "metadata": {},
   "outputs": [],
   "source": []
  },
  {
   "cell_type": "code",
   "execution_count": null,
   "id": "34c7ebb4-76ff-4a81-9d0d-2db436f35ad6",
   "metadata": {},
   "outputs": [],
   "source": []
  },
  {
   "cell_type": "markdown",
   "id": "8b718478-c8cd-4f1e-a055-ff0e152b6373",
   "metadata": {},
   "source": [
    "# End"
   ]
  }
 ],
 "metadata": {
  "kernelspec": {
   "display_name": "Python 3 (ipykernel)",
   "language": "python",
   "name": "python3"
  },
  "language_info": {
   "codemirror_mode": {
    "name": "ipython",
    "version": 3
   },
   "file_extension": ".py",
   "mimetype": "text/x-python",
   "name": "python",
   "nbconvert_exporter": "python",
   "pygments_lexer": "ipython3",
   "version": "3.9.7"
  }
 },
 "nbformat": 4,
 "nbformat_minor": 5
}
